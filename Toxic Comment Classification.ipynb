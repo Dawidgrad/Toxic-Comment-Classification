{
  "nbformat": 4,
  "nbformat_minor": 0,
  "metadata": {
    "kernelspec": {
      "display_name": "Python 3",
      "language": "python",
      "name": "python3"
    },
    "language_info": {
      "codemirror_mode": {
        "name": "ipython",
        "version": 3
      },
      "file_extension": ".py",
      "mimetype": "text/x-python",
      "name": "python",
      "nbconvert_exporter": "python",
      "pygments_lexer": "ipython3",
      "version": "3.8.5"
    },
    "colab": {
      "name": "Toxic Comment Classification.ipynb",
      "provenance": [],
      "collapsed_sections": []
    },
    "accelerator": "GPU"
  },
  "cells": [
    {
      "cell_type": "markdown",
      "metadata": {
        "id": "xfO2B2CFXavU",
        "colab_type": "text"
      },
      "source": [
        "## Import libraries and the data"
      ]
    },
    {
      "cell_type": "code",
      "metadata": {
        "id": "UDcjkI3RXavU",
        "colab_type": "code",
        "colab": {
          "base_uri": "https://localhost:8080/",
          "height": 50
        },
        "outputId": "d2c42ed2-2f6d-4f4b-d6bb-4beb125fe068"
      },
      "source": [
        "import os\n",
        "import pandas as pd\n",
        "import numpy as np\n",
        "import matplotlib.pyplot as plt\n",
        "from textblob import Word\n",
        "import gensim\n",
        "from gensim.models import Word2Vec\n",
        "from gensim.models import KeyedVectors\n",
        "from nltk.tokenize import RegexpTokenizer\n",
        "from sklearn.ensemble import RandomForestClassifier\n",
        "from tqdm import tqdm\n",
        "import tensorflow as tf\n",
        "import sys\n",
        "from keras import backend as K\n",
        "import nltk\n",
        "from sklearn.metrics import confusion_matrix\n",
        "\n",
        "nltk.download('wordnet')\n",
        "\n",
        "train_df = pd.read_csv('data/train.csv')\n",
        "test_df = pd.read_csv('data/test.csv')\n",
        "test_y = pd.read_csv('data/test_labels.csv')\n",
        "test_y = test_y.drop('id', axis = 1)\n",
        "\n",
        "pd.options.display.max_colwidth = 150\n",
        "plt.style.use('ggplot')"
      ],
      "execution_count": 6,
      "outputs": [
        {
          "output_type": "stream",
          "text": [
            "[nltk_data] Downloading package wordnet to /root/nltk_data...\n",
            "[nltk_data]   Package wordnet is already up-to-date!\n"
          ],
          "name": "stdout"
        }
      ]
    },
    {
      "cell_type": "markdown",
      "metadata": {
        "id": "vISfUrTtXavX",
        "colab_type": "text"
      },
      "source": [
        "## EDA"
      ]
    },
    {
      "cell_type": "code",
      "metadata": {
        "id": "tEOXgUjzXavY",
        "colab_type": "code",
        "colab": {
          "base_uri": "https://localhost:8080/",
          "height": 807
        },
        "outputId": "c1e00492-6b15-466c-d5fb-3341f459f2f0"
      },
      "source": [
        "train_df.head(20)"
      ],
      "execution_count": 7,
      "outputs": [
        {
          "output_type": "execute_result",
          "data": {
            "text/html": [
              "<div>\n",
              "<style scoped>\n",
              "    .dataframe tbody tr th:only-of-type {\n",
              "        vertical-align: middle;\n",
              "    }\n",
              "\n",
              "    .dataframe tbody tr th {\n",
              "        vertical-align: top;\n",
              "    }\n",
              "\n",
              "    .dataframe thead th {\n",
              "        text-align: right;\n",
              "    }\n",
              "</style>\n",
              "<table border=\"1\" class=\"dataframe\">\n",
              "  <thead>\n",
              "    <tr style=\"text-align: right;\">\n",
              "      <th></th>\n",
              "      <th>id</th>\n",
              "      <th>comment_text</th>\n",
              "      <th>toxic</th>\n",
              "      <th>severe_toxic</th>\n",
              "      <th>obscene</th>\n",
              "      <th>threat</th>\n",
              "      <th>insult</th>\n",
              "      <th>identity_hate</th>\n",
              "    </tr>\n",
              "  </thead>\n",
              "  <tbody>\n",
              "    <tr>\n",
              "      <th>0</th>\n",
              "      <td>0000997932d777bf</td>\n",
              "      <td>Explanation\\nWhy the edits made under my username Hardcore Metallica Fan were reverted? They weren't vandalisms, just closure on some GAs after I ...</td>\n",
              "      <td>0</td>\n",
              "      <td>0</td>\n",
              "      <td>0</td>\n",
              "      <td>0</td>\n",
              "      <td>0</td>\n",
              "      <td>0</td>\n",
              "    </tr>\n",
              "    <tr>\n",
              "      <th>1</th>\n",
              "      <td>000103f0d9cfb60f</td>\n",
              "      <td>D'aww! He matches this background colour I'm seemingly stuck with. Thanks.  (talk) 21:51, January 11, 2016 (UTC)</td>\n",
              "      <td>0</td>\n",
              "      <td>0</td>\n",
              "      <td>0</td>\n",
              "      <td>0</td>\n",
              "      <td>0</td>\n",
              "      <td>0</td>\n",
              "    </tr>\n",
              "    <tr>\n",
              "      <th>2</th>\n",
              "      <td>000113f07ec002fd</td>\n",
              "      <td>Hey man, I'm really not trying to edit war. It's just that this guy is constantly removing relevant information and talking to me through edits in...</td>\n",
              "      <td>0</td>\n",
              "      <td>0</td>\n",
              "      <td>0</td>\n",
              "      <td>0</td>\n",
              "      <td>0</td>\n",
              "      <td>0</td>\n",
              "    </tr>\n",
              "    <tr>\n",
              "      <th>3</th>\n",
              "      <td>0001b41b1c6bb37e</td>\n",
              "      <td>\"\\nMore\\nI can't make any real suggestions on improvement - I wondered if the section statistics should be later on, or a subsection of \"\"types of...</td>\n",
              "      <td>0</td>\n",
              "      <td>0</td>\n",
              "      <td>0</td>\n",
              "      <td>0</td>\n",
              "      <td>0</td>\n",
              "      <td>0</td>\n",
              "    </tr>\n",
              "    <tr>\n",
              "      <th>4</th>\n",
              "      <td>0001d958c54c6e35</td>\n",
              "      <td>You, sir, are my hero. Any chance you remember what page that's on?</td>\n",
              "      <td>0</td>\n",
              "      <td>0</td>\n",
              "      <td>0</td>\n",
              "      <td>0</td>\n",
              "      <td>0</td>\n",
              "      <td>0</td>\n",
              "    </tr>\n",
              "    <tr>\n",
              "      <th>5</th>\n",
              "      <td>00025465d4725e87</td>\n",
              "      <td>\"\\n\\nCongratulations from me as well, use the tools well.  · talk \"</td>\n",
              "      <td>0</td>\n",
              "      <td>0</td>\n",
              "      <td>0</td>\n",
              "      <td>0</td>\n",
              "      <td>0</td>\n",
              "      <td>0</td>\n",
              "    </tr>\n",
              "    <tr>\n",
              "      <th>6</th>\n",
              "      <td>0002bcb3da6cb337</td>\n",
              "      <td>COCKSUCKER BEFORE YOU PISS AROUND ON MY WORK</td>\n",
              "      <td>1</td>\n",
              "      <td>1</td>\n",
              "      <td>1</td>\n",
              "      <td>0</td>\n",
              "      <td>1</td>\n",
              "      <td>0</td>\n",
              "    </tr>\n",
              "    <tr>\n",
              "      <th>7</th>\n",
              "      <td>00031b1e95af7921</td>\n",
              "      <td>Your vandalism to the Matt Shirvington article has been reverted.  Please don't do it again, or you will be banned.</td>\n",
              "      <td>0</td>\n",
              "      <td>0</td>\n",
              "      <td>0</td>\n",
              "      <td>0</td>\n",
              "      <td>0</td>\n",
              "      <td>0</td>\n",
              "    </tr>\n",
              "    <tr>\n",
              "      <th>8</th>\n",
              "      <td>00037261f536c51d</td>\n",
              "      <td>Sorry if the word 'nonsense' was offensive to you. Anyway, I'm not intending to write anything in the article(wow they would jump on me for vandal...</td>\n",
              "      <td>0</td>\n",
              "      <td>0</td>\n",
              "      <td>0</td>\n",
              "      <td>0</td>\n",
              "      <td>0</td>\n",
              "      <td>0</td>\n",
              "    </tr>\n",
              "    <tr>\n",
              "      <th>9</th>\n",
              "      <td>00040093b2687caa</td>\n",
              "      <td>alignment on this subject and which are contrary to those of DuLithgow</td>\n",
              "      <td>0</td>\n",
              "      <td>0</td>\n",
              "      <td>0</td>\n",
              "      <td>0</td>\n",
              "      <td>0</td>\n",
              "      <td>0</td>\n",
              "    </tr>\n",
              "    <tr>\n",
              "      <th>10</th>\n",
              "      <td>0005300084f90edc</td>\n",
              "      <td>\"\\nFair use rationale for Image:Wonju.jpg\\n\\nThanks for uploading Image:Wonju.jpg. I notice the image page specifies that the image is being used ...</td>\n",
              "      <td>0</td>\n",
              "      <td>0</td>\n",
              "      <td>0</td>\n",
              "      <td>0</td>\n",
              "      <td>0</td>\n",
              "      <td>0</td>\n",
              "    </tr>\n",
              "    <tr>\n",
              "      <th>11</th>\n",
              "      <td>00054a5e18b50dd4</td>\n",
              "      <td>bbq \\n\\nbe a man and lets discuss it-maybe over the phone?</td>\n",
              "      <td>0</td>\n",
              "      <td>0</td>\n",
              "      <td>0</td>\n",
              "      <td>0</td>\n",
              "      <td>0</td>\n",
              "      <td>0</td>\n",
              "    </tr>\n",
              "    <tr>\n",
              "      <th>12</th>\n",
              "      <td>0005c987bdfc9d4b</td>\n",
              "      <td>Hey... what is it..\\n@ | talk .\\nWhat is it... an exclusive group of some WP TALIBANS...who are good at destroying, self-appointed purist who GANG...</td>\n",
              "      <td>1</td>\n",
              "      <td>0</td>\n",
              "      <td>0</td>\n",
              "      <td>0</td>\n",
              "      <td>0</td>\n",
              "      <td>0</td>\n",
              "    </tr>\n",
              "    <tr>\n",
              "      <th>13</th>\n",
              "      <td>0006f16e4e9f292e</td>\n",
              "      <td>Before you start throwing accusations and warnings at me, lets review the edit itself-making ad hominem attacks isn't going to strengthen your arg...</td>\n",
              "      <td>0</td>\n",
              "      <td>0</td>\n",
              "      <td>0</td>\n",
              "      <td>0</td>\n",
              "      <td>0</td>\n",
              "      <td>0</td>\n",
              "    </tr>\n",
              "    <tr>\n",
              "      <th>14</th>\n",
              "      <td>00070ef96486d6f9</td>\n",
              "      <td>Oh, and the girl above started her arguments with me. She stuck her nose where it doesn't belong. I believe the argument was between me and Yvesni...</td>\n",
              "      <td>0</td>\n",
              "      <td>0</td>\n",
              "      <td>0</td>\n",
              "      <td>0</td>\n",
              "      <td>0</td>\n",
              "      <td>0</td>\n",
              "    </tr>\n",
              "    <tr>\n",
              "      <th>15</th>\n",
              "      <td>00078f8ce7eb276d</td>\n",
              "      <td>\"\\n\\nJuelz Santanas Age\\n\\nIn 2002, Juelz Santana was 18 years old, then came February 18th, which makes Juelz turn 19 making songs with The Diplo...</td>\n",
              "      <td>0</td>\n",
              "      <td>0</td>\n",
              "      <td>0</td>\n",
              "      <td>0</td>\n",
              "      <td>0</td>\n",
              "      <td>0</td>\n",
              "    </tr>\n",
              "    <tr>\n",
              "      <th>16</th>\n",
              "      <td>0007e25b2121310b</td>\n",
              "      <td>Bye! \\n\\nDon't look, come or think of comming back! Tosser.</td>\n",
              "      <td>1</td>\n",
              "      <td>0</td>\n",
              "      <td>0</td>\n",
              "      <td>0</td>\n",
              "      <td>0</td>\n",
              "      <td>0</td>\n",
              "    </tr>\n",
              "    <tr>\n",
              "      <th>17</th>\n",
              "      <td>000897889268bc93</td>\n",
              "      <td>REDIRECT Talk:Voydan Pop Georgiev- Chernodrinski</td>\n",
              "      <td>0</td>\n",
              "      <td>0</td>\n",
              "      <td>0</td>\n",
              "      <td>0</td>\n",
              "      <td>0</td>\n",
              "      <td>0</td>\n",
              "    </tr>\n",
              "    <tr>\n",
              "      <th>18</th>\n",
              "      <td>0009801bd85e5806</td>\n",
              "      <td>The Mitsurugi point made no sense - why not argue to include Hindi on Ryo Sakazaki's page to include more information?</td>\n",
              "      <td>0</td>\n",
              "      <td>0</td>\n",
              "      <td>0</td>\n",
              "      <td>0</td>\n",
              "      <td>0</td>\n",
              "      <td>0</td>\n",
              "    </tr>\n",
              "    <tr>\n",
              "      <th>19</th>\n",
              "      <td>0009eaea3325de8c</td>\n",
              "      <td>Don't mean to bother you \\n\\nI see that you're writing something regarding removing anything posted here and if you do oh well but if not and you ...</td>\n",
              "      <td>0</td>\n",
              "      <td>0</td>\n",
              "      <td>0</td>\n",
              "      <td>0</td>\n",
              "      <td>0</td>\n",
              "      <td>0</td>\n",
              "    </tr>\n",
              "  </tbody>\n",
              "</table>\n",
              "</div>"
            ],
            "text/plain": [
              "                  id  ... identity_hate\n",
              "0   0000997932d777bf  ...             0\n",
              "1   000103f0d9cfb60f  ...             0\n",
              "2   000113f07ec002fd  ...             0\n",
              "3   0001b41b1c6bb37e  ...             0\n",
              "4   0001d958c54c6e35  ...             0\n",
              "5   00025465d4725e87  ...             0\n",
              "6   0002bcb3da6cb337  ...             0\n",
              "7   00031b1e95af7921  ...             0\n",
              "8   00037261f536c51d  ...             0\n",
              "9   00040093b2687caa  ...             0\n",
              "10  0005300084f90edc  ...             0\n",
              "11  00054a5e18b50dd4  ...             0\n",
              "12  0005c987bdfc9d4b  ...             0\n",
              "13  0006f16e4e9f292e  ...             0\n",
              "14  00070ef96486d6f9  ...             0\n",
              "15  00078f8ce7eb276d  ...             0\n",
              "16  0007e25b2121310b  ...             0\n",
              "17  000897889268bc93  ...             0\n",
              "18  0009801bd85e5806  ...             0\n",
              "19  0009eaea3325de8c  ...             0\n",
              "\n",
              "[20 rows x 8 columns]"
            ]
          },
          "metadata": {
            "tags": []
          },
          "execution_count": 7
        }
      ]
    },
    {
      "cell_type": "code",
      "metadata": {
        "id": "VTHY07VrXava",
        "colab_type": "code",
        "colab": {
          "base_uri": "https://localhost:8080/",
          "height": 370
        },
        "outputId": "69a78233-7762-4eb1-877e-aafbbea83c0d"
      },
      "source": [
        "train_df['comment_text'].tail(20)"
      ],
      "execution_count": 8,
      "outputs": [
        {
          "output_type": "execute_result",
          "data": {
            "text/plain": [
              "159551    While about half the references are from BYU-I, the majority comes from the independent student paper Scroll, which probably is the most reliable ...\n",
              "159552                                                           Prague Spring \\n\\nI think that Prague Spring deserves more than two sentences in this article.\n",
              "159553    I see this as having been merged; undoing one side of a merge forks content in large blocks. See here and here where the article was merged. The p...\n",
              "159554    and i'm going to keep posting the stuff u deleted until this fucking site closes down have fun u stupid ass bitch don't ever delete anything fucki...\n",
              "159555                                \"\\n\\nHow come when you download that MP3 it's titled \"\"odb\"\"? That's ODB's theme and that has been my point all along.  \"\n",
              "159556                                                                                                I'll be on IRC, too, if you have a more specific request.\n",
              "159557    It is my opinion that that happens to be off-topic. I do believe that I never claimed it is not a common criticism. Please avail yourself to my op...\n",
              "159558                   Please stop removing content from Wikipedia; it is considered vandalism. If you want to experiment, please use the sandbox. Thank you.\n",
              "159559    Image:Barack-obama-mother.jpg listed for deletion \\nAn image or media file that you uploaded or altered, Image:Barack-obama-mother.jpg, has been l...\n",
              "159560    \"Editing of article without Consensus & Removal of Cited Content without Discussion===\\nI find it telling that neither of you had the courtesy to ...\n",
              "159561    \"\\nNo he did not, read it again (I would have thought everyone here could recite it by heart by now) it says \"\"Are we truly to believe the arbcom ...\n",
              "159562    \"\\n Auto guides and the motoring press are not good sources for an encyclopedia article about \"\"luxury vehicle\"\". This is because automakers feed ...\n",
              "159563    \"\\nplease identify what part of BLP applies because BLP clearly states that we must follow NPOV which says that we must present content in relatio...\n",
              "159564    Catalan independentism is the social movement involving more people in Catalonia. Votes in the referendum at Barcelona were more than the ones rec...\n",
              "159565    The numbers in parentheses are the additional decimal points which have been measured but lie outside the accuracy of the measurement process. Thi...\n",
              "159566    \":::::And for the second time of asking, when your view completely contradicts the coverage in reliable sources, why should anyone care what you f...\n",
              "159567                                                    You should be ashamed of yourself \\n\\nThat is a horrible thing you put on my talk page.  128.61.19.93\n",
              "159568                                                                      Spitzer \\n\\nUmm, theres no actual article for prostitution ring.  - Crunch Captain.\n",
              "159569                                     And it looks like it was actually you who put on the speedy to have the first version deleted now that I look at it.\n",
              "159570    \"\\nAnd ... I really don't think you understand.  I came here and my idea was bad right away.  What kind of community goes \"\"you have bad ideas\"\" g...\n",
              "Name: comment_text, dtype: object"
            ]
          },
          "metadata": {
            "tags": []
          },
          "execution_count": 8
        }
      ]
    },
    {
      "cell_type": "code",
      "metadata": {
        "id": "8YjpSE4EXavc",
        "colab_type": "code",
        "colab": {
          "base_uri": "https://localhost:8080/",
          "height": 282
        },
        "outputId": "bea97218-874b-4ad1-c493-2cbea8e08ccf"
      },
      "source": [
        "plt.bar(['train', 'test'], [train_df.shape[0], test_df.shape[0]], alpha = 0.5, edgecolor = 'black')"
      ],
      "execution_count": 9,
      "outputs": [
        {
          "output_type": "execute_result",
          "data": {
            "text/plain": [
              "<BarContainer object of 2 artists>"
            ]
          },
          "metadata": {
            "tags": []
          },
          "execution_count": 9
        },
        {
          "output_type": "display_data",
          "data": {
            "image/png": "[encoded data removed]",
            "text/plain": [
              "<Figure size 432x288 with 1 Axes>"
            ]
          },
          "metadata": {
            "tags": []
          }
        }
      ]
    },
    {
      "cell_type": "code",
      "metadata": {
        "id": "BGrIEq1aXave",
        "colab_type": "code",
        "colab": {
          "base_uri": "https://localhost:8080/",
          "height": 338
        },
        "outputId": "753561f8-6e2b-47a2-9021-e6b3e2b8cda6"
      },
      "source": [
        "label_columns = train_df.columns[2:]\n",
        "label_count = []\n",
        "\n",
        "for column in label_columns:\n",
        "    label_count.append(train_df[column].sum())\n",
        "\n",
        "plt.figure(figsize = (10, 5))\n",
        "plt.bar(label_columns, label_count, alpha = 0.5, edgecolor = 'black')\n",
        "plt.title('Number of observations per label')\n",
        "plt.show()"
      ],
      "execution_count": 10,
      "outputs": [
        {
          "output_type": "display_data",
          "data": {
            "image/png": "[encoded data removed]",
            "text/plain": [
              "<Figure size 720x360 with 1 Axes>"
            ]
          },
          "metadata": {
            "tags": []
          }
        }
      ]
    },
    {
      "cell_type": "markdown",
      "metadata": {
        "id": "NiQ82YwWXavg",
        "colab_type": "text"
      },
      "source": [
        "This plot shows the imbalance between labels"
      ]
    },
    {
      "cell_type": "code",
      "metadata": {
        "id": "LviXYu0HXavg",
        "colab_type": "code",
        "colab": {
          "base_uri": "https://localhost:8080/",
          "height": 337
        },
        "outputId": "eda5bd7a-a97f-46f3-bf7a-766cc37f0bf5"
      },
      "source": [
        "nontoxic_indices = train_df[label_columns].apply(lambda row : True if (row.sum() == 0) else False, 1) # Get non-toxic observations \n",
        "nontoxic_comments = train_df[nontoxic_indices == True]\n",
        "toxic_comments = train_df[nontoxic_indices == False]\n",
        "nontoxic_no = train_df[nontoxic_indices].shape[0]\n",
        "toxic_no = train_df.shape[0] - nontoxic_no\n",
        "\n",
        "plt.figure(figsize = (10, 5))\n",
        "plt.bar(['Non-toxic', 'Toxic'], [nontoxic_no, toxic_no], alpha = 0.5, edgecolor = 'black')\n",
        "plt.title('Number of non-toxic vs toxic comments')\n",
        "plt.show()"
      ],
      "execution_count": 11,
      "outputs": [
        {
          "output_type": "display_data",
          "data": {
            "image/png": "[encoded data removed]",
            "text/plain": [
              "<Figure size 720x360 with 1 Axes>"
            ]
          },
          "metadata": {
            "tags": []
          }
        }
      ]
    },
    {
      "cell_type": "markdown",
      "metadata": {
        "id": "-Z8IqLn7Xavi",
        "colab_type": "text"
      },
      "source": [
        "Further imbalance between the comments that don't contain any toxicity and those that contain any type"
      ]
    },
    {
      "cell_type": "code",
      "metadata": {
        "id": "caBtxSb4Xavj",
        "colab_type": "code",
        "colab": {
          "base_uri": "https://localhost:8080/",
          "height": 337
        },
        "outputId": "e4bd4dbc-e10a-4e3b-95ed-074588a4b6ff"
      },
      "source": [
        "nontoxic_wordcount = nontoxic_comments['comment_text'].apply(lambda text : len([word for word in text.split()]))\n",
        "nontoxic_avg_wordcount = nontoxic_wordcount.sum() / nontoxic_wordcount.shape[0]\n",
        "\n",
        "toxic_wordcount = toxic_comments['comment_text'].apply(lambda text : len([word for word in text.split()]))\n",
        "toxic_avg_wordcount = toxic_wordcount.sum() / toxic_wordcount.shape[0]\n",
        "\n",
        "plt.figure(figsize = (10, 5))\n",
        "plt.bar(['Non-toxic', 'Toxic'], [nontoxic_avg_wordcount, toxic_avg_wordcount], alpha = 0.5, edgecolor = 'black')\n",
        "plt.title('Average number of words in each class')\n",
        "plt.show()"
      ],
      "execution_count": 12,
      "outputs": [
        {
          "output_type": "display_data",
          "data": {
            "image/png": "[encoded data removed]",
            "text/plain": [
              "<Figure size 720x360 with 1 Axes>"
            ]
          },
          "metadata": {
            "tags": []
          }
        }
      ]
    },
    {
      "cell_type": "code",
      "metadata": {
        "id": "fdjgpw8wXavl",
        "colab_type": "code",
        "colab": {
          "base_uri": "https://localhost:8080/",
          "height": 337
        },
        "outputId": "6acca2d5-9212-496e-e13e-1d1ac090e6b7"
      },
      "source": [
        "bins_num = 30\n",
        "\n",
        "# Adjust for the class imbalance by randomly sampling non-toxic word lengths\n",
        "wordcount_nt = nontoxic_wordcount.sample(n = toxic_wordcount.shape[0])\n",
        "wordcount_t = toxic_wordcount\n",
        "\n",
        "plt.figure(figsize = (10, 5))\n",
        "_, bins, _ = plt.hist(wordcount_nt, bins_num, alpha = 0.5, edgecolor = 'black', label = 'Non-toxic')\n",
        "plt.hist(wordcount_t, bins, alpha = 0.5, edgecolor = 'black', label = 'Toxic')\n",
        "plt.title('Word count between non-toxic and toxic comments')\n",
        "plt.legend()\n",
        "plt.show()"
      ],
      "execution_count": 13,
      "outputs": [
        {
          "output_type": "display_data",
          "data": {
            "image/png": "[encoded data removed]",
            "text/plain": [
              "<Figure size 720x360 with 1 Axes>"
            ]
          },
          "metadata": {
            "tags": []
          }
        }
      ]
    },
    {
      "cell_type": "code",
      "metadata": {
        "id": "ESFlXvGwXavn",
        "colab_type": "code",
        "colab": {
          "base_uri": "https://localhost:8080/",
          "height": 337
        },
        "outputId": "0081af15-1b0f-498c-9725-792457958899"
      },
      "source": [
        "charcount_nt = nontoxic_comments['comment_text'].apply(lambda comment : len(comment))\n",
        "avg_word_nt = charcount_nt / nontoxic_wordcount\n",
        "avg_word_nt = avg_word_nt.sample(n = toxic_comments.shape[0])\n",
        "\n",
        "charcount_t = toxic_comments['comment_text'].apply(lambda comment : len(comment))\n",
        "avg_word_t = charcount_t / toxic_wordcount\n",
        "\n",
        "bins_num = 50\n",
        "plt.figure(figsize = (10, 5))\n",
        "_, bins, _ = plt.hist(avg_word_nt[avg_word_nt < 20], bins_num, alpha = 0.5, edgecolor = 'black', label = 'Non-toxic')\n",
        "plt.hist(avg_word_t[avg_word_t < 20], bins, alpha = 0.5, edgecolor = 'black', label = 'Toxic')\n",
        "plt.title('Average word length between non-toxic and toxic comments')\n",
        "plt.legend()\n",
        "plt.show()"
      ],
      "execution_count": 14,
      "outputs": [
        {
          "output_type": "display_data",
          "data": {
            "image/png": "[encoded data removed]",
            "text/plain": [
              "<Figure size 720x360 with 1 Axes>"
            ]
          },
          "metadata": {
            "tags": []
          }
        }
      ]
    },
    {
      "cell_type": "code",
      "metadata": {
        "id": "HmMSbDq8Xavp",
        "colab_type": "code",
        "colab": {
          "base_uri": "https://localhost:8080/",
          "height": 337
        },
        "outputId": "b75ec108-ed7f-48f1-f0a3-74500a76e12b"
      },
      "source": [
        "upper_words_nt = nontoxic_comments['comment_text'].apply(lambda comment: len([word for word in comment.split() if word.isupper() and len(word) > 1]))\n",
        "avg_upper_nt = len(upper_words_nt[upper_words_nt > 0]) / len(upper_words_nt)\n",
        "\n",
        "upper_words_t = toxic_comments['comment_text'].apply(lambda comment: len([word for word in comment.split() if word.isupper() and len(word) > 1]))\n",
        "avg_upper_t = len(upper_words_t[upper_words_t > 0]) / len(upper_words_t)\n",
        "\n",
        "plt.figure(figsize = (10, 5))\n",
        "plt.bar(['Non-toxic', 'Toxic'], [avg_upper_nt, avg_upper_t], alpha = 0.5, edgecolor = 'black')\n",
        "plt.title('Average upper words amount between non-toxic and toxic comments')\n",
        "plt.show()"
      ],
      "execution_count": 15,
      "outputs": [
        {
          "output_type": "display_data",
          "data": {
            "image/png": "[encoded data removed]",
            "text/plain": [
              "<Figure size 720x360 with 1 Axes>"
            ]
          },
          "metadata": {
            "tags": []
          }
        }
      ]
    },
    {
      "cell_type": "markdown",
      "metadata": {
        "id": "69m4Yhi7Xavr",
        "colab_type": "text"
      },
      "source": [
        "## Preprocessing"
      ]
    },
    {
      "cell_type": "code",
      "metadata": {
        "id": "8L86GqliXavr",
        "colab_type": "code",
        "colab": {}
      },
      "source": [
        "# Preprocessing steps chosen to optimise the predictions\n",
        "def preprocessing(dataset):\n",
        "    # Convert tweets to lowercase\n",
        "    dataset['comment_text'] = dataset['comment_text'].apply(lambda text : \" \".join(word.lower() for word in text.split())) \n",
        "    \n",
        "    # Remove punctuation\n",
        "    dataset['comment_text'] = dataset['comment_text'].str.replace('[^\\w\\s]', '') \n",
        "    \n",
        "    # Remove non-alphabetic characters\n",
        "    # Not sure about this one since some people substitute letters with numbers in insults\n",
        "    # dataset['comment_text'] = dataset['comment_text'].str.replace(\"[^A-Za-z']+\", ' ')\n",
        "\n",
        "    # Spelling correction.\n",
        "    # Will most likely try to correct a lot of slang and shorthands for insult words\n",
        "    #dataset['text'][:10].apply(lambda tweet : str(TextBlob(tweet).correct()))    \n",
        "\n",
        "    # Lemmatization of the words\n",
        "    dataset['comment_text'] = dataset['comment_text'].apply(lambda text : \" \".join(Word(word).lemmatize() for word in text.split())) \n",
        "\n",
        "    # Remove stop words from tweets\n",
        "    #stop = stopwords.words('english') # Get english stopwords list\n",
        "    #dataset['text'] = dataset['text'].apply(lambda tweet : \" \".join(word for word in tweet.split() if word not in stop)) \n",
        "\n",
        "    # Rarest / Most common words\n",
        "    # freq = pd.Series(' '.join(dataset['text']).split()).value_counts()[-50:]\n",
        "    \n",
        "    return dataset"
      ],
      "execution_count": 16,
      "outputs": []
    },
    {
      "cell_type": "code",
      "metadata": {
        "id": "kJDKStMCXavw",
        "colab_type": "code",
        "colab": {}
      },
      "source": [
        "train_df = preprocessing(train_df)\n",
        "\n",
        "# Tokenization\n",
        "tokenizer = RegexpTokenizer(r'\\w+')\n",
        "train_tokenized = [tokenizer.tokenize(word) for word in train_df['comment_text']] "
      ],
      "execution_count": 17,
      "outputs": []
    },
    {
      "cell_type": "markdown",
      "metadata": {
        "id": "syMHKUHjXavy",
        "colab_type": "text"
      },
      "source": [
        "## Embedding using Word2Vec"
      ]
    },
    {
      "cell_type": "code",
      "metadata": {
        "id": "_e8RRygBXavy",
        "colab_type": "code",
        "colab": {
          "base_uri": "https://localhost:8080/",
          "height": 70
        },
        "outputId": "a5521f11-e0d2-4e6a-f6fb-a1e2a85ac902"
      },
      "source": [
        "model_path = 'word2vec model/toxic_comments_word2vec.model'\n",
        "vector_size = 300\n",
        "\n",
        "# Check if fine-tuned model is available in the directory\n",
        "if not os.path.exists(model_path):\n",
        "    # Fine tuning pre-trained model\n",
        "    vector_model = Word2Vec(size = vector_size, min_count = 1)\n",
        "    vector_model.build_vocab(train_tokenized)\n",
        "    total_examples = vector_model.corpus_count\n",
        "\n",
        "    vector_model.intersect_word2vec_format('word2vec model/GoogleNews-vectors-negative300.bin', binary = True, lockf = 1.0)\n",
        "    vector_model.train(train_tokenized, total_examples = total_examples, epochs = 5)\n",
        "    \n",
        "    # Save the model\n",
        "    vector_model.save(model_path)\n",
        "else:\n",
        "    vector_model = Word2Vec.load(model_path)"
      ],
      "execution_count": 18,
      "outputs": [
        {
          "output_type": "stream",
          "text": [
            "/usr/local/lib/python3.6/dist-packages/smart_open/smart_open_lib.py:254: UserWarning: This function is deprecated, use smart_open.open instead. See the migration notes for details: https://github.com/RaRe-Technologies/smart_open/blob/master/README.rst#migrating-to-the-new-open-function\n",
            "  'See the migration notes for details: %s' % _MIGRATION_NOTES_URL\n"
          ],
          "name": "stderr"
        }
      ]
    },
    {
      "cell_type": "code",
      "metadata": {
        "id": "vJuv3bw6Xav0",
        "colab_type": "code",
        "colab": {}
      },
      "source": [
        "def create_feature_vector(comments, model, vector_size):\n",
        "    model_word_set = set(model.wv.index2word)\n",
        "    \n",
        "    comment_feature_vector = np.zeros((len(comments), vector_size), dtype='float32')\n",
        "    i = 0\n",
        "    \n",
        "    for comment in tqdm(comments):\n",
        "        feature_vector = np.zeros((vector_size,), dtype=\"float32\")\n",
        "        feature_number = 0\n",
        "        for word in comment:\n",
        "            if word in model_word_set:\n",
        "                feature_number += 1\n",
        "                feature_vector = np.add(feature_vector, model.wv[word])\n",
        "        comment_feature_vector[i] = np.divide(feature_vector, feature_number)\n",
        "        i += 1\n",
        "                \n",
        "    return comment_feature_vector"
      ],
      "execution_count": 19,
      "outputs": []
    },
    {
      "cell_type": "markdown",
      "metadata": {
        "id": "15JLtdFeXav2",
        "colab_type": "text"
      },
      "source": [
        "## Random Forest Model"
      ]
    },
    {
      "cell_type": "code",
      "metadata": {
        "id": "CYkFmb8FXav2",
        "colab_type": "code",
        "colab": {}
      },
      "source": [
        "# Create sentence vectors for train data\n",
        "# train_data_vectors = create_feature_vector(train_df['comment_text'], vector_model, vector_size)"
      ],
      "execution_count": 20,
      "outputs": []
    },
    {
      "cell_type": "code",
      "metadata": {
        "id": "ZXYkXgt7Xav4",
        "colab_type": "code",
        "colab": {}
      },
      "source": [
        "# Train Random Forest classifier\n",
        "# random_forest_model = RandomForestClassifier(n_estimators = 100, verbose = 1, n_jobs = -1)\n",
        "# random_forest_model = random_forest_model.fit(train_data_vectors, train_df.iloc[:, 2:])"
      ],
      "execution_count": 21,
      "outputs": []
    },
    {
      "cell_type": "code",
      "metadata": {
        "id": "e4W-TtJfXav6",
        "colab_type": "code",
        "colab": {}
      },
      "source": [
        "# Create sentence vectors for test data\n",
        "# test_data_vectors = create_feature_vector(test_df['comment_text'], vector_model, vector_size)"
      ],
      "execution_count": 22,
      "outputs": []
    },
    {
      "cell_type": "code",
      "metadata": {
        "id": "ljtrE41QXav8",
        "colab_type": "code",
        "colab": {}
      },
      "source": [
        "# Remove NaN / infinity values to 0\n",
        "# test_data_vectors = np.nan_to_num(test_data_vectors)\n",
        "\n",
        "# Get predictions\n",
        "# predictions = random_forest_model.predict(test_data_vectors)"
      ],
      "execution_count": 23,
      "outputs": []
    },
    {
      "cell_type": "markdown",
      "metadata": {
        "id": "W5sxBvTNXav9",
        "colab_type": "text"
      },
      "source": [
        "## Neural Network"
      ]
    },
    {
      "cell_type": "code",
      "metadata": {
        "id": "9gvaGUC1ziIz",
        "colab_type": "code",
        "colab": {}
      },
      "source": [
        "# Define f1 metric function\n",
        "def f1_m(precision, recall):\n",
        "    return 2 * ((precision * recall) / (precision + recall + K.epsilon()))"
      ],
      "execution_count": 24,
      "outputs": []
    },
    {
      "cell_type": "code",
      "metadata": {
        "id": "ntJukNKzeRjA",
        "colab_type": "code",
        "colab": {
          "base_uri": "https://localhost:8080/",
          "height": 34
        },
        "outputId": "d186d71f-5aec-4f79-f6a0-a2402420e5d0"
      },
      "source": [
        "# Create sentence vectors for train data\n",
        "train_data_vectors = create_feature_vector(train_df['comment_text'], vector_model, vector_size)"
      ],
      "execution_count": 25,
      "outputs": [
        {
          "output_type": "stream",
          "text": [
            "100%|██████████| 159571/159571 [01:38<00:00, 1615.04it/s]\n"
          ],
          "name": "stderr"
        }
      ]
    },
    {
      "cell_type": "code",
      "metadata": {
        "id": "hX8l4lCuJo3w",
        "colab_type": "code",
        "colab": {
          "base_uri": "https://localhost:8080/",
          "height": 67
        },
        "outputId": "98d5458a-bcf9-4796-fc37-be4ccdf452e7"
      },
      "source": [
        "# Create sentence vectors for test data\n",
        "test_data_vectors = create_feature_vector(test_df['comment_text'], vector_model, vector_size)"
      ],
      "execution_count": 26,
      "outputs": [
        {
          "output_type": "stream",
          "text": [
            "\r  0%|          | 0/153164 [00:00<?, ?it/s]/usr/local/lib/python3.6/dist-packages/ipykernel_launcher.py:14: RuntimeWarning: invalid value encountered in true_divide\n",
            "  \n",
            "100%|██████████| 153164/153164 [01:22<00:00, 1864.59it/s]\n"
          ],
          "name": "stderr"
        }
      ]
    },
    {
      "cell_type": "code",
      "metadata": {
        "id": "K09Mrl_6Xav9",
        "colab_type": "code",
        "colab": {
          "base_uri": "https://localhost:8080/",
          "height": 134
        },
        "outputId": "196a8676-e67d-48b2-b248-7c33122cec7e"
      },
      "source": [
        "# Create the model\n",
        "\n",
        "# Basic MLP\n",
        "# nn_model = tf.keras.models.Sequential()\n",
        "# nn_model.add(tf.keras.layers.Dense(vector_size, activation = tf.nn.relu))\n",
        "# nn_model.add(tf.keras.layers.Dropout(0.3))\n",
        "# nn_model.add(tf.keras.layers.Dense(vector_size, activation = tf.nn.relu))\n",
        "# nn_model.add(tf.keras.layers.Dropout(0.3))\n",
        "# nn_model.add(tf.keras.layers.Dense(6, activation = tf.nn.sigmoid))\n",
        "\n",
        "train_data_vectors = train_data_vectors.reshape(train_data_vectors.shape[0], train_data_vectors.shape[1], 1)\n",
        "test_data_vectors = test_data_vectors.reshape(test_data_vectors.shape[0], test_data_vectors.shape[1], 1)\n",
        "\n",
        "# LSTM network with settings to optimise for GPU use\n",
        "tf.compat.v1.enable_eager_execution()\n",
        "\n",
        "nn_model = tf.keras.models.Sequential()\n",
        "\n",
        "nn_model.add(tf.keras.layers.LSTM(300, input_shape = train_data_vectors.shape[1:], activation = 'tanh', \n",
        "             recurrent_activation = 'sigmoid', recurrent_dropout = 0, unroll = False, use_bias = True, return_sequences = True))\n",
        "nn_model.add(tf.keras.layers.Dropout(0.3))\n",
        "\n",
        "nn_model.add(tf.keras.layers.LSTM(300, input_shape = train_data_vectors.shape[1:], activation = 'tanh', \n",
        "             recurrent_activation = 'sigmoid', recurrent_dropout = 0, unroll = False, use_bias = True))\n",
        "nn_model.add(tf.keras.layers.Dropout(0.3))\n",
        "\n",
        "nn_model.add(tf.keras.layers.Dense(75, activation = tf.nn.relu))\n",
        "nn_model.add(tf.keras.layers.Dense(6, activation = tf.nn.sigmoid))\n",
        "\n",
        "opt = tf.keras.optimizers.Adam(lr = 1e-3, decay = 1e-5)\n",
        "\n",
        "nn_model.compile(loss = \"binary_crossentropy\", \n",
        "                 optimizer = opt, \n",
        "\t\t\t\t\t\t\t\t\tmetrics=[\"accuracy\"])\n",
        "\n",
        "# Train\n",
        "nn_model.fit(train_data_vectors, train_df.iloc[:, 2:], epochs = 3)"
      ],
      "execution_count": 40,
      "outputs": [
        {
          "output_type": "stream",
          "text": [
            "Epoch 1/3\n",
            "4987/4987 [==============================] - 239s 48ms/step - loss: 0.1436 - accuracy: 0.9781\n",
            "Epoch 2/3\n",
            "4987/4987 [==============================] - 238s 48ms/step - loss: 0.1332 - accuracy: 0.9937\n",
            "Epoch 3/3\n",
            "4987/4987 [==============================] - 239s 48ms/step - loss: 0.1204 - accuracy: 0.9941\n"
          ],
          "name": "stdout"
        },
        {
          "output_type": "execute_result",
          "data": {
            "text/plain": [
              "<tensorflow.python.keras.callbacks.History at 0x7fa60db67e10>"
            ]
          },
          "metadata": {
            "tags": []
          },
          "execution_count": 40
        }
      ]
    },
    {
      "cell_type": "code",
      "metadata": {
        "id": "zutyXnGae4c3",
        "colab_type": "code",
        "colab": {
          "base_uri": "https://localhost:8080/",
          "height": 118
        },
        "outputId": "3b256923-017c-4797-e5b9-c288724c5cb6"
      },
      "source": [
        "# Remove NaN / infinity values to 0\n",
        "test_data_vectors = np.nan_to_num(test_data_vectors)\n",
        "\n",
        "predictions = nn_model.predict(test_data_vectors)\n",
        "\n",
        "# Round the predictions\n",
        "threshold = .2\n",
        "predictions[predictions >= threshold] = 1\n",
        "predictions[predictions < threshold] = 0\n",
        "\n",
        "# Get the evaluation metrics\n",
        "val_loss, val_acc = nn_model.evaluate(test_data_vectors, test_y)\n",
        "\n",
        "result = confusion_matrix(test_y['toxic'], predictions[:, 0])\n",
        "val_prec = result[2][2] / (result[2][2] + result[1][2])\n",
        "val_rec = result[2][2] / (result[2][2] + result[2][1])\n",
        "val_f1 = f1_m(val_prec, val_rec)\n",
        "\n",
        "# Print metrics\n",
        "print('Loss: ' + str(val_loss))\n",
        "print('Acc: ' + str(val_acc))\n",
        "print('F1: ' + str(val_f1))\n",
        "print('Precision: ' + str(val_prec))\n",
        "print('Recall: ' + str(val_rec))"
      ],
      "execution_count": 42,
      "outputs": [
        {
          "output_type": "stream",
          "text": [
            "4787/4787 [==============================] - 87s 18ms/step - loss: -2.6112 - accuracy: 0.9990\n",
            "Loss: -2.611175060272217\n",
            "Acc: 0.9990010857582092\n",
            "F1: 0.3172658180617961\n",
            "Precision: 0.34531400966183573\n",
            "Recall: 0.293431855500821\n"
          ],
          "name": "stdout"
        }
      ]
    },
    {
      "cell_type": "markdown",
      "metadata": {
        "id": "d2SdEmu0Xav_",
        "colab_type": "text"
      },
      "source": [
        "## Submission"
      ]
    },
    {
      "cell_type": "code",
      "metadata": {
        "id": "IxcAZswKXav_",
        "colab_type": "code",
        "colab": {}
      },
      "source": [
        "def submission(ids, predictions):\n",
        "    print(len(predictions))\n",
        "    predictions_df = pd.DataFrame(predictions, columns = ['toxic', 'severe_toxic', 'obscene', 'threat', 'insult', 'identity_hate'])\n",
        "    submission_data = pd.concat([ids, predictions_df], axis = 1)\n",
        "    submission_data.to_csv(\"submission.csv\", index=False)"
      ],
      "execution_count": null,
      "outputs": []
    },
    {
      "cell_type": "code",
      "metadata": {
        "id": "6FU20PuAXawB",
        "colab_type": "code",
        "colab": {}
      },
      "source": [
        "submission(test_df['id'], predictions)"
      ],
      "execution_count": null,
      "outputs": []
    },
    {
      "cell_type": "code",
      "metadata": {
        "id": "5l51wVSwiEAq",
        "colab_type": "code",
        "colab": {}
      },
      "source": [
        ""
      ],
      "execution_count": null,
      "outputs": []
    }
  ]
}