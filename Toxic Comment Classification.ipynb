{
 "cells": [
  {
   "cell_type": "markdown",
   "metadata": {},
   "source": [
    "## Import libraries and the data"
   ]
  },
  {
   "cell_type": "code",
   "execution_count": 1,
   "metadata": {},
   "outputs": [],
   "source": [
    "import pandas as pd\n",
    "import numpy as np\n",
    "import matplotlib.pyplot as plt\n",
    "from textblob import Word\n",
    "import gensim\n",
    "from gensim.models import Word2Vec\n",
    "from gensim.models import KeyedVectors\n",
    "from nltk.tokenize import RegexpTokenizer\n",
    "\n",
    "train_df = pd.read_csv('data/train.csv')\n",
    "test_df = pd.read_csv('data/test.csv')\n",
    "\n",
    "pd.options.display.max_colwidth = 150\n",
    "plt.style.use('ggplot')"
   ]
  },
  {
   "cell_type": "markdown",
   "metadata": {},
   "source": [
    "## EDA"
   ]
  },
  {
   "cell_type": "code",
   "execution_count": 2,
   "metadata": {},
   "outputs": [
    {
     "data": {
      "text/html": [
       "<div>\n",
       "<style scoped>\n",
       "    .dataframe tbody tr th:only-of-type {\n",
       "        vertical-align: middle;\n",
       "    }\n",
       "\n",
       "    .dataframe tbody tr th {\n",
       "        vertical-align: top;\n",
       "    }\n",
       "\n",
       "    .dataframe thead th {\n",
       "        text-align: right;\n",
       "    }\n",
       "</style>\n",
       "<table border=\"1\" class=\"dataframe\">\n",
       "  <thead>\n",
       "    <tr style=\"text-align: right;\">\n",
       "      <th></th>\n",
       "      <th>id</th>\n",
       "      <th>comment_text</th>\n",
       "      <th>toxic</th>\n",
       "      <th>severe_toxic</th>\n",
       "      <th>obscene</th>\n",
       "      <th>threat</th>\n",
       "      <th>insult</th>\n",
       "      <th>identity_hate</th>\n",
       "    </tr>\n",
       "  </thead>\n",
       "  <tbody>\n",
       "    <tr>\n",
       "      <th>0</th>\n",
       "      <td>0000997932d777bf</td>\n",
       "      <td>Explanation\\nWhy the edits made under my username Hardcore Metallica Fan were reverted? They weren't vandalisms, just closure on some GAs after I ...</td>\n",
       "      <td>0</td>\n",
       "      <td>0</td>\n",
       "      <td>0</td>\n",
       "      <td>0</td>\n",
       "      <td>0</td>\n",
       "      <td>0</td>\n",
       "    </tr>\n",
       "    <tr>\n",
       "      <th>1</th>\n",
       "      <td>000103f0d9cfb60f</td>\n",
       "      <td>D'aww! He matches this background colour I'm seemingly stuck with. Thanks.  (talk) 21:51, January 11, 2016 (UTC)</td>\n",
       "      <td>0</td>\n",
       "      <td>0</td>\n",
       "      <td>0</td>\n",
       "      <td>0</td>\n",
       "      <td>0</td>\n",
       "      <td>0</td>\n",
       "    </tr>\n",
       "    <tr>\n",
       "      <th>2</th>\n",
       "      <td>000113f07ec002fd</td>\n",
       "      <td>Hey man, I'm really not trying to edit war. It's just that this guy is constantly removing relevant information and talking to me through edits in...</td>\n",
       "      <td>0</td>\n",
       "      <td>0</td>\n",
       "      <td>0</td>\n",
       "      <td>0</td>\n",
       "      <td>0</td>\n",
       "      <td>0</td>\n",
       "    </tr>\n",
       "    <tr>\n",
       "      <th>3</th>\n",
       "      <td>0001b41b1c6bb37e</td>\n",
       "      <td>\"\\nMore\\nI can't make any real suggestions on improvement - I wondered if the section statistics should be later on, or a subsection of \"\"types of...</td>\n",
       "      <td>0</td>\n",
       "      <td>0</td>\n",
       "      <td>0</td>\n",
       "      <td>0</td>\n",
       "      <td>0</td>\n",
       "      <td>0</td>\n",
       "    </tr>\n",
       "    <tr>\n",
       "      <th>4</th>\n",
       "      <td>0001d958c54c6e35</td>\n",
       "      <td>You, sir, are my hero. Any chance you remember what page that's on?</td>\n",
       "      <td>0</td>\n",
       "      <td>0</td>\n",
       "      <td>0</td>\n",
       "      <td>0</td>\n",
       "      <td>0</td>\n",
       "      <td>0</td>\n",
       "    </tr>\n",
       "    <tr>\n",
       "      <th>5</th>\n",
       "      <td>00025465d4725e87</td>\n",
       "      <td>\"\\n\\nCongratulations from me as well, use the tools well.  · talk \"</td>\n",
       "      <td>0</td>\n",
       "      <td>0</td>\n",
       "      <td>0</td>\n",
       "      <td>0</td>\n",
       "      <td>0</td>\n",
       "      <td>0</td>\n",
       "    </tr>\n",
       "    <tr>\n",
       "      <th>6</th>\n",
       "      <td>0002bcb3da6cb337</td>\n",
       "      <td>COCKSUCKER BEFORE YOU PISS AROUND ON MY WORK</td>\n",
       "      <td>1</td>\n",
       "      <td>1</td>\n",
       "      <td>1</td>\n",
       "      <td>0</td>\n",
       "      <td>1</td>\n",
       "      <td>0</td>\n",
       "    </tr>\n",
       "    <tr>\n",
       "      <th>7</th>\n",
       "      <td>00031b1e95af7921</td>\n",
       "      <td>Your vandalism to the Matt Shirvington article has been reverted.  Please don't do it again, or you will be banned.</td>\n",
       "      <td>0</td>\n",
       "      <td>0</td>\n",
       "      <td>0</td>\n",
       "      <td>0</td>\n",
       "      <td>0</td>\n",
       "      <td>0</td>\n",
       "    </tr>\n",
       "    <tr>\n",
       "      <th>8</th>\n",
       "      <td>00037261f536c51d</td>\n",
       "      <td>Sorry if the word 'nonsense' was offensive to you. Anyway, I'm not intending to write anything in the article(wow they would jump on me for vandal...</td>\n",
       "      <td>0</td>\n",
       "      <td>0</td>\n",
       "      <td>0</td>\n",
       "      <td>0</td>\n",
       "      <td>0</td>\n",
       "      <td>0</td>\n",
       "    </tr>\n",
       "    <tr>\n",
       "      <th>9</th>\n",
       "      <td>00040093b2687caa</td>\n",
       "      <td>alignment on this subject and which are contrary to those of DuLithgow</td>\n",
       "      <td>0</td>\n",
       "      <td>0</td>\n",
       "      <td>0</td>\n",
       "      <td>0</td>\n",
       "      <td>0</td>\n",
       "      <td>0</td>\n",
       "    </tr>\n",
       "    <tr>\n",
       "      <th>10</th>\n",
       "      <td>0005300084f90edc</td>\n",
       "      <td>\"\\nFair use rationale for Image:Wonju.jpg\\n\\nThanks for uploading Image:Wonju.jpg. I notice the image page specifies that the image is being used ...</td>\n",
       "      <td>0</td>\n",
       "      <td>0</td>\n",
       "      <td>0</td>\n",
       "      <td>0</td>\n",
       "      <td>0</td>\n",
       "      <td>0</td>\n",
       "    </tr>\n",
       "    <tr>\n",
       "      <th>11</th>\n",
       "      <td>00054a5e18b50dd4</td>\n",
       "      <td>bbq \\n\\nbe a man and lets discuss it-maybe over the phone?</td>\n",
       "      <td>0</td>\n",
       "      <td>0</td>\n",
       "      <td>0</td>\n",
       "      <td>0</td>\n",
       "      <td>0</td>\n",
       "      <td>0</td>\n",
       "    </tr>\n",
       "    <tr>\n",
       "      <th>12</th>\n",
       "      <td>0005c987bdfc9d4b</td>\n",
       "      <td>Hey... what is it..\\n@ | talk .\\nWhat is it... an exclusive group of some WP TALIBANS...who are good at destroying, self-appointed purist who GANG...</td>\n",
       "      <td>1</td>\n",
       "      <td>0</td>\n",
       "      <td>0</td>\n",
       "      <td>0</td>\n",
       "      <td>0</td>\n",
       "      <td>0</td>\n",
       "    </tr>\n",
       "    <tr>\n",
       "      <th>13</th>\n",
       "      <td>0006f16e4e9f292e</td>\n",
       "      <td>Before you start throwing accusations and warnings at me, lets review the edit itself-making ad hominem attacks isn't going to strengthen your arg...</td>\n",
       "      <td>0</td>\n",
       "      <td>0</td>\n",
       "      <td>0</td>\n",
       "      <td>0</td>\n",
       "      <td>0</td>\n",
       "      <td>0</td>\n",
       "    </tr>\n",
       "    <tr>\n",
       "      <th>14</th>\n",
       "      <td>00070ef96486d6f9</td>\n",
       "      <td>Oh, and the girl above started her arguments with me. She stuck her nose where it doesn't belong. I believe the argument was between me and Yvesni...</td>\n",
       "      <td>0</td>\n",
       "      <td>0</td>\n",
       "      <td>0</td>\n",
       "      <td>0</td>\n",
       "      <td>0</td>\n",
       "      <td>0</td>\n",
       "    </tr>\n",
       "    <tr>\n",
       "      <th>15</th>\n",
       "      <td>00078f8ce7eb276d</td>\n",
       "      <td>\"\\n\\nJuelz Santanas Age\\n\\nIn 2002, Juelz Santana was 18 years old, then came February 18th, which makes Juelz turn 19 making songs with The Diplo...</td>\n",
       "      <td>0</td>\n",
       "      <td>0</td>\n",
       "      <td>0</td>\n",
       "      <td>0</td>\n",
       "      <td>0</td>\n",
       "      <td>0</td>\n",
       "    </tr>\n",
       "    <tr>\n",
       "      <th>16</th>\n",
       "      <td>0007e25b2121310b</td>\n",
       "      <td>Bye! \\n\\nDon't look, come or think of comming back! Tosser.</td>\n",
       "      <td>1</td>\n",
       "      <td>0</td>\n",
       "      <td>0</td>\n",
       "      <td>0</td>\n",
       "      <td>0</td>\n",
       "      <td>0</td>\n",
       "    </tr>\n",
       "    <tr>\n",
       "      <th>17</th>\n",
       "      <td>000897889268bc93</td>\n",
       "      <td>REDIRECT Talk:Voydan Pop Georgiev- Chernodrinski</td>\n",
       "      <td>0</td>\n",
       "      <td>0</td>\n",
       "      <td>0</td>\n",
       "      <td>0</td>\n",
       "      <td>0</td>\n",
       "      <td>0</td>\n",
       "    </tr>\n",
       "    <tr>\n",
       "      <th>18</th>\n",
       "      <td>0009801bd85e5806</td>\n",
       "      <td>The Mitsurugi point made no sense - why not argue to include Hindi on Ryo Sakazaki's page to include more information?</td>\n",
       "      <td>0</td>\n",
       "      <td>0</td>\n",
       "      <td>0</td>\n",
       "      <td>0</td>\n",
       "      <td>0</td>\n",
       "      <td>0</td>\n",
       "    </tr>\n",
       "    <tr>\n",
       "      <th>19</th>\n",
       "      <td>0009eaea3325de8c</td>\n",
       "      <td>Don't mean to bother you \\n\\nI see that you're writing something regarding removing anything posted here and if you do oh well but if not and you ...</td>\n",
       "      <td>0</td>\n",
       "      <td>0</td>\n",
       "      <td>0</td>\n",
       "      <td>0</td>\n",
       "      <td>0</td>\n",
       "      <td>0</td>\n",
       "    </tr>\n",
       "  </tbody>\n",
       "</table>\n",
       "</div>"
      ],
      "text/plain": [
       "                  id  \\\n",
       "0   0000997932d777bf   \n",
       "1   000103f0d9cfb60f   \n",
       "2   000113f07ec002fd   \n",
       "3   0001b41b1c6bb37e   \n",
       "4   0001d958c54c6e35   \n",
       "5   00025465d4725e87   \n",
       "6   0002bcb3da6cb337   \n",
       "7   00031b1e95af7921   \n",
       "8   00037261f536c51d   \n",
       "9   00040093b2687caa   \n",
       "10  0005300084f90edc   \n",
       "11  00054a5e18b50dd4   \n",
       "12  0005c987bdfc9d4b   \n",
       "13  0006f16e4e9f292e   \n",
       "14  00070ef96486d6f9   \n",
       "15  00078f8ce7eb276d   \n",
       "16  0007e25b2121310b   \n",
       "17  000897889268bc93   \n",
       "18  0009801bd85e5806   \n",
       "19  0009eaea3325de8c   \n",
       "\n",
       "                                                                                                                                             comment_text  \\\n",
       "0   Explanation\\nWhy the edits made under my username Hardcore Metallica Fan were reverted? They weren't vandalisms, just closure on some GAs after I ...   \n",
       "1                                        D'aww! He matches this background colour I'm seemingly stuck with. Thanks.  (talk) 21:51, January 11, 2016 (UTC)   \n",
       "2   Hey man, I'm really not trying to edit war. It's just that this guy is constantly removing relevant information and talking to me through edits in...   \n",
       "3   \"\\nMore\\nI can't make any real suggestions on improvement - I wondered if the section statistics should be later on, or a subsection of \"\"types of...   \n",
       "4                                                                                     You, sir, are my hero. Any chance you remember what page that's on?   \n",
       "5                                                                                     \"\\n\\nCongratulations from me as well, use the tools well.  · talk \"   \n",
       "6                                                                                                            COCKSUCKER BEFORE YOU PISS AROUND ON MY WORK   \n",
       "7                                     Your vandalism to the Matt Shirvington article has been reverted.  Please don't do it again, or you will be banned.   \n",
       "8   Sorry if the word 'nonsense' was offensive to you. Anyway, I'm not intending to write anything in the article(wow they would jump on me for vandal...   \n",
       "9                                                                                  alignment on this subject and which are contrary to those of DuLithgow   \n",
       "10  \"\\nFair use rationale for Image:Wonju.jpg\\n\\nThanks for uploading Image:Wonju.jpg. I notice the image page specifies that the image is being used ...   \n",
       "11                                                                                             bbq \\n\\nbe a man and lets discuss it-maybe over the phone?   \n",
       "12  Hey... what is it..\\n@ | talk .\\nWhat is it... an exclusive group of some WP TALIBANS...who are good at destroying, self-appointed purist who GANG...   \n",
       "13  Before you start throwing accusations and warnings at me, lets review the edit itself-making ad hominem attacks isn't going to strengthen your arg...   \n",
       "14  Oh, and the girl above started her arguments with me. She stuck her nose where it doesn't belong. I believe the argument was between me and Yvesni...   \n",
       "15  \"\\n\\nJuelz Santanas Age\\n\\nIn 2002, Juelz Santana was 18 years old, then came February 18th, which makes Juelz turn 19 making songs with The Diplo...   \n",
       "16                                                                                            Bye! \\n\\nDon't look, come or think of comming back! Tosser.   \n",
       "17                                                                                                       REDIRECT Talk:Voydan Pop Georgiev- Chernodrinski   \n",
       "18                                 The Mitsurugi point made no sense - why not argue to include Hindi on Ryo Sakazaki's page to include more information?   \n",
       "19  Don't mean to bother you \\n\\nI see that you're writing something regarding removing anything posted here and if you do oh well but if not and you ...   \n",
       "\n",
       "    toxic  severe_toxic  obscene  threat  insult  identity_hate  \n",
       "0       0             0        0       0       0              0  \n",
       "1       0             0        0       0       0              0  \n",
       "2       0             0        0       0       0              0  \n",
       "3       0             0        0       0       0              0  \n",
       "4       0             0        0       0       0              0  \n",
       "5       0             0        0       0       0              0  \n",
       "6       1             1        1       0       1              0  \n",
       "7       0             0        0       0       0              0  \n",
       "8       0             0        0       0       0              0  \n",
       "9       0             0        0       0       0              0  \n",
       "10      0             0        0       0       0              0  \n",
       "11      0             0        0       0       0              0  \n",
       "12      1             0        0       0       0              0  \n",
       "13      0             0        0       0       0              0  \n",
       "14      0             0        0       0       0              0  \n",
       "15      0             0        0       0       0              0  \n",
       "16      1             0        0       0       0              0  \n",
       "17      0             0        0       0       0              0  \n",
       "18      0             0        0       0       0              0  \n",
       "19      0             0        0       0       0              0  "
      ]
     },
     "execution_count": 2,
     "metadata": {},
     "output_type": "execute_result"
    }
   ],
   "source": [
    "train_df.head(20)"
   ]
  },
  {
   "cell_type": "code",
   "execution_count": 3,
   "metadata": {},
   "outputs": [
    {
     "data": {
      "text/plain": [
       "159551    While about half the references are from BYU-I, the majority comes from the independent student paper Scroll, which probably is the most reliable ...\n",
       "159552                                                           Prague Spring \\n\\nI think that Prague Spring deserves more than two sentences in this article.\n",
       "159553    I see this as having been merged; undoing one side of a merge forks content in large blocks. See here and here where the article was merged. The p...\n",
       "159554    and i'm going to keep posting the stuff u deleted until this fucking site closes down have fun u stupid ass bitch don't ever delete anything fucki...\n",
       "159555                                \"\\n\\nHow come when you download that MP3 it's titled \"\"odb\"\"? That's ODB's theme and that has been my point all along.  \"\n",
       "159556                                                                                                I'll be on IRC, too, if you have a more specific request.\n",
       "159557    It is my opinion that that happens to be off-topic. I do believe that I never claimed it is not a common criticism. Please avail yourself to my op...\n",
       "159558                   Please stop removing content from Wikipedia; it is considered vandalism. If you want to experiment, please use the sandbox. Thank you.\n",
       "159559    Image:Barack-obama-mother.jpg listed for deletion \\nAn image or media file that you uploaded or altered, Image:Barack-obama-mother.jpg, has been l...\n",
       "159560    \"Editing of article without Consensus & Removal of Cited Content without Discussion===\\nI find it telling that neither of you had the courtesy to ...\n",
       "159561    \"\\nNo he did not, read it again (I would have thought everyone here could recite it by heart by now) it says \"\"Are we truly to believe the arbcom ...\n",
       "159562    \"\\n Auto guides and the motoring press are not good sources for an encyclopedia article about \"\"luxury vehicle\"\". This is because automakers feed ...\n",
       "159563    \"\\nplease identify what part of BLP applies because BLP clearly states that we must follow NPOV which says that we must present content in relatio...\n",
       "159564    Catalan independentism is the social movement involving more people in Catalonia. Votes in the referendum at Barcelona were more than the ones rec...\n",
       "159565    The numbers in parentheses are the additional decimal points which have been measured but lie outside the accuracy of the measurement process. Thi...\n",
       "159566    \":::::And for the second time of asking, when your view completely contradicts the coverage in reliable sources, why should anyone care what you f...\n",
       "159567                                                    You should be ashamed of yourself \\n\\nThat is a horrible thing you put on my talk page.  128.61.19.93\n",
       "159568                                                                      Spitzer \\n\\nUmm, theres no actual article for prostitution ring.  - Crunch Captain.\n",
       "159569                                     And it looks like it was actually you who put on the speedy to have the first version deleted now that I look at it.\n",
       "159570    \"\\nAnd ... I really don't think you understand.  I came here and my idea was bad right away.  What kind of community goes \"\"you have bad ideas\"\" g...\n",
       "Name: comment_text, dtype: object"
      ]
     },
     "execution_count": 3,
     "metadata": {},
     "output_type": "execute_result"
    }
   ],
   "source": [
    "train_df['comment_text'].tail(20)"
   ]
  },
  {
   "cell_type": "code",
   "execution_count": 4,
   "metadata": {},
   "outputs": [
    {
     "data": {
      "text/plain": [
       "<BarContainer object of 2 artists>"
      ]
     },
     "execution_count": 4,
     "metadata": {},
     "output_type": "execute_result"
    },
    {
     "data": {
      "image/png": "[encoded data removed]",
      "text/plain": [
       "<Figure size 432x288 with 1 Axes>"
      ]
     },
     "metadata": {},
     "output_type": "display_data"
    }
   ],
   "source": [
    "plt.bar(['train', 'test'], [train_df.shape[0], test_df.shape[0]], alpha = 0.5, edgecolor = 'black')"
   ]
  },
  {
   "cell_type": "code",
   "execution_count": 5,
   "metadata": {},
   "outputs": [
    {
     "data": {
      "image/png": "[encoded data removed]",
      "text/plain": [
       "<Figure size 720x360 with 1 Axes>"
      ]
     },
     "metadata": {},
     "output_type": "display_data"
    }
   ],
   "source": [
    "label_columns = train_df.columns[2:]\n",
    "label_count = []\n",
    "\n",
    "for column in label_columns:\n",
    "    label_count.append(train_df[column].sum())\n",
    "\n",
    "plt.figure(figsize = (10, 5))\n",
    "plt.bar(label_columns, label_count, alpha = 0.5, edgecolor = 'black')\n",
    "plt.title('Number of observations per label')\n",
    "plt.show()"
   ]
  },
  {
   "cell_type": "markdown",
   "metadata": {},
   "source": [
    "This plot shows the imbalance between labels"
   ]
  },
  {
   "cell_type": "code",
   "execution_count": 6,
   "metadata": {},
   "outputs": [
    {
     "data": {
      "image/png": "[encoded data removed]",
      "text/plain": [
       "<Figure size 720x360 with 1 Axes>"
      ]
     },
     "metadata": {},
     "output_type": "display_data"
    }
   ],
   "source": [
    "nontoxic_indices = train_df[label_columns].apply(lambda row : True if (row.sum() == 0) else False, 1) # Get non-toxic observations \n",
    "nontoxic_comments = train_df[nontoxic_indices == True]\n",
    "toxic_comments = train_df[nontoxic_indices == False]\n",
    "nontoxic_no = train_df[nontoxic_indices].shape[0]\n",
    "toxic_no = train_df.shape[0] - nontoxic_no\n",
    "\n",
    "plt.figure(figsize = (10, 5))\n",
    "plt.bar(['Non-toxic', 'Toxic'], [nontoxic_no, toxic_no], alpha = 0.5, edgecolor = 'black')\n",
    "plt.title('Number of non-toxic vs toxic comments')\n",
    "plt.show()"
   ]
  },
  {
   "cell_type": "markdown",
   "metadata": {},
   "source": [
    "Further imbalance between the comments that don't contain any toxicity and those that contain any type"
   ]
  },
  {
   "cell_type": "code",
   "execution_count": 7,
   "metadata": {},
   "outputs": [
    {
     "data": {
      "image/png": "[encoded data removed]",
      "text/plain": [
       "<Figure size 720x360 with 1 Axes>"
      ]
     },
     "metadata": {},
     "output_type": "display_data"
    }
   ],
   "source": [
    "nontoxic_wordcount = nontoxic_comments['comment_text'].apply(lambda text : len([word for word in text.split()]))\n",
    "nontoxic_avg_wordcount = nontoxic_wordcount.sum() / nontoxic_wordcount.shape[0]\n",
    "\n",
    "toxic_wordcount = toxic_comments['comment_text'].apply(lambda text : len([word for word in text.split()]))\n",
    "toxic_avg_wordcount = toxic_wordcount.sum() / toxic_wordcount.shape[0]\n",
    "\n",
    "plt.figure(figsize = (10, 5))\n",
    "plt.bar(['Non-toxic', 'Toxic'], [nontoxic_avg_wordcount, toxic_avg_wordcount], alpha = 0.5, edgecolor = 'black')\n",
    "plt.title('Average number of words in each class')\n",
    "plt.show()"
   ]
  },
  {
   "cell_type": "code",
   "execution_count": 8,
   "metadata": {},
   "outputs": [
    {
     "data": {
      "image/png": "[encoded data removed]",
      "text/plain": [
       "<Figure size 720x360 with 1 Axes>"
      ]
     },
     "metadata": {},
     "output_type": "display_data"
    }
   ],
   "source": [
    "bins_num = 30\n",
    "\n",
    "# Adjust for the class imbalance by randomly sampling non-toxic word lengths\n",
    "wordcount_nt = nontoxic_wordcount.sample(n = toxic_wordcount.shape[0])\n",
    "wordcount_t = toxic_wordcount\n",
    "\n",
    "plt.figure(figsize = (10, 5))\n",
    "_, bins, _ = plt.hist(wordcount_nt, bins_num, alpha = 0.5, edgecolor = 'black', label = 'Non-toxic')\n",
    "plt.hist(wordcount_t, bins, alpha = 0.5, edgecolor = 'black', label = 'Toxic')\n",
    "plt.title('Word count between non-toxic and toxic comments')\n",
    "plt.legend()\n",
    "plt.show()"
   ]
  },
  {
   "cell_type": "code",
   "execution_count": 9,
   "metadata": {},
   "outputs": [
    {
     "data": {
      "image/png": "[encoded data removed]",
      "text/plain": [
       "<Figure size 720x360 with 1 Axes>"
      ]
     },
     "metadata": {},
     "output_type": "display_data"
    }
   ],
   "source": [
    "charcount_nt = nontoxic_comments['comment_text'].apply(lambda comment : len(comment))\n",
    "avg_word_nt = charcount_nt / nontoxic_wordcount\n",
    "avg_word_nt = avg_word_nt.sample(n = toxic_comments.shape[0])\n",
    "\n",
    "charcount_t = toxic_comments['comment_text'].apply(lambda comment : len(comment))\n",
    "avg_word_t = charcount_t / toxic_wordcount\n",
    "\n",
    "bins_num = 50\n",
    "plt.figure(figsize = (10, 5))\n",
    "_, bins, _ = plt.hist(avg_word_nt[avg_word_nt < 20], bins_num, alpha = 0.5, edgecolor = 'black', label = 'Non-toxic')\n",
    "plt.hist(avg_word_t[avg_word_t < 20], bins, alpha = 0.5, edgecolor = 'black', label = 'Toxic')\n",
    "plt.title('Average word length between non-toxic and toxic comments')\n",
    "plt.legend()\n",
    "plt.show()"
   ]
  },
  {
   "cell_type": "code",
   "execution_count": 10,
   "metadata": {},
   "outputs": [
    {
     "data": {
      "image/png": "[encoded data removed]",
      "text/plain": [
       "<Figure size 720x360 with 1 Axes>"
      ]
     },
     "metadata": {},
     "output_type": "display_data"
    }
   ],
   "source": [
    "upper_words_nt = nontoxic_comments['comment_text'].apply(lambda comment: len([word for word in comment.split() if word.isupper() and len(word) > 1]))\n",
    "avg_upper_nt = len(upper_words_nt[upper_words_nt > 0]) / len(upper_words_nt)\n",
    "\n",
    "upper_words_t = toxic_comments['comment_text'].apply(lambda comment: len([word for word in comment.split() if word.isupper() and len(word) > 1]))\n",
    "avg_upper_t = len(upper_words_t[upper_words_t > 0]) / len(upper_words_t)\n",
    "\n",
    "plt.figure(figsize = (10, 5))\n",
    "plt.bar(['Non-toxic', 'Toxic'], [avg_upper_nt, avg_upper_t], alpha = 0.5, edgecolor = 'black')\n",
    "plt.title('Average upper words amount between non-toxic and toxic comments')\n",
    "plt.show()"
   ]
  },
  {
   "cell_type": "markdown",
   "metadata": {},
   "source": [
    "## Preprocessing"
   ]
  },
  {
   "cell_type": "code",
   "execution_count": 11,
   "metadata": {},
   "outputs": [],
   "source": [
    "# Preprocessing steps chosen to optimise the predictions\n",
    "def preprocessing(dataset):\n",
    "    # Convert tweets to lowercase\n",
    "    dataset['comment_text'] = dataset['comment_text'].apply(lambda text : \" \".join(word.lower() for word in text.split())) \n",
    "    \n",
    "    # Remove punctuation\n",
    "    dataset['comment_text'] = dataset['comment_text'].str.replace('[^\\w\\s]', '') \n",
    "    \n",
    "    # Remove non-alphabetic characters\n",
    "    # Not sure about this one since some people substitute letters with numbers in insults\n",
    "    # dataset['comment_text'] = dataset['comment_text'].str.replace(\"[^A-Za-z']+\", ' ')\n",
    "\n",
    "    # Spelling correction.\n",
    "    # Will most likely try to correct a lot of slang and shorthands for insult words\n",
    "    #dataset['text'][:10].apply(lambda tweet : str(TextBlob(tweet).correct()))    \n",
    "\n",
    "    # Lemmatization of the words\n",
    "    dataset['comment_text'] = dataset['comment_text'].apply(lambda text : \" \".join(Word(word).lemmatize() for word in text.split())) \n",
    "\n",
    "    # Remove stop words from tweets\n",
    "    #stop = stopwords.words('english') # Get english stopwords list\n",
    "    #dataset['text'] = dataset['text'].apply(lambda tweet : \" \".join(word for word in tweet.split() if word not in stop)) \n",
    "\n",
    "    # Rarest / Most common words\n",
    "    # freq = pd.Series(' '.join(train['text']).split()).value_counts()[-50:]\n",
    "    \n",
    "    return dataset"
   ]
  },
  {
   "cell_type": "code",
   "execution_count": 12,
   "metadata": {},
   "outputs": [
    {
     "data": {
      "text/html": [
       "<div>\n",
       "<style scoped>\n",
       "    .dataframe tbody tr th:only-of-type {\n",
       "        vertical-align: middle;\n",
       "    }\n",
       "\n",
       "    .dataframe tbody tr th {\n",
       "        vertical-align: top;\n",
       "    }\n",
       "\n",
       "    .dataframe thead th {\n",
       "        text-align: right;\n",
       "    }\n",
       "</style>\n",
       "<table border=\"1\" class=\"dataframe\">\n",
       "  <thead>\n",
       "    <tr style=\"text-align: right;\">\n",
       "      <th></th>\n",
       "      <th>id</th>\n",
       "      <th>comment_text</th>\n",
       "      <th>toxic</th>\n",
       "      <th>severe_toxic</th>\n",
       "      <th>obscene</th>\n",
       "      <th>threat</th>\n",
       "      <th>insult</th>\n",
       "      <th>identity_hate</th>\n",
       "    </tr>\n",
       "  </thead>\n",
       "  <tbody>\n",
       "    <tr>\n",
       "      <th>0</th>\n",
       "      <td>0000997932d777bf</td>\n",
       "      <td>explanation why the edits made under my username hardcore metallica fan were reverted they werent vandalism just closure on some gas after i voted...</td>\n",
       "      <td>0</td>\n",
       "      <td>0</td>\n",
       "      <td>0</td>\n",
       "      <td>0</td>\n",
       "      <td>0</td>\n",
       "      <td>0</td>\n",
       "    </tr>\n",
       "    <tr>\n",
       "      <th>1</th>\n",
       "      <td>000103f0d9cfb60f</td>\n",
       "      <td>daww he match this background colour im seemingly stuck with thanks talk 2151 january 11 2016 utc</td>\n",
       "      <td>0</td>\n",
       "      <td>0</td>\n",
       "      <td>0</td>\n",
       "      <td>0</td>\n",
       "      <td>0</td>\n",
       "      <td>0</td>\n",
       "    </tr>\n",
       "    <tr>\n",
       "      <th>2</th>\n",
       "      <td>000113f07ec002fd</td>\n",
       "      <td>hey man im really not trying to edit war it just that this guy is constantly removing relevant information and talking to me through edits instead...</td>\n",
       "      <td>0</td>\n",
       "      <td>0</td>\n",
       "      <td>0</td>\n",
       "      <td>0</td>\n",
       "      <td>0</td>\n",
       "      <td>0</td>\n",
       "    </tr>\n",
       "    <tr>\n",
       "      <th>3</th>\n",
       "      <td>0001b41b1c6bb37e</td>\n",
       "      <td>more i cant make any real suggestion on improvement i wondered if the section statistic should be later on or a subsection of type of accident i t...</td>\n",
       "      <td>0</td>\n",
       "      <td>0</td>\n",
       "      <td>0</td>\n",
       "      <td>0</td>\n",
       "      <td>0</td>\n",
       "      <td>0</td>\n",
       "    </tr>\n",
       "    <tr>\n",
       "      <th>4</th>\n",
       "      <td>0001d958c54c6e35</td>\n",
       "      <td>you sir are my hero any chance you remember what page thats on</td>\n",
       "      <td>0</td>\n",
       "      <td>0</td>\n",
       "      <td>0</td>\n",
       "      <td>0</td>\n",
       "      <td>0</td>\n",
       "      <td>0</td>\n",
       "    </tr>\n",
       "    <tr>\n",
       "      <th>...</th>\n",
       "      <td>...</td>\n",
       "      <td>...</td>\n",
       "      <td>...</td>\n",
       "      <td>...</td>\n",
       "      <td>...</td>\n",
       "      <td>...</td>\n",
       "      <td>...</td>\n",
       "      <td>...</td>\n",
       "    </tr>\n",
       "    <tr>\n",
       "      <th>159566</th>\n",
       "      <td>ffe987279560d7ff</td>\n",
       "      <td>and for the second time of asking when your view completely contradicts the coverage in reliable source why should anyone care what you feel you c...</td>\n",
       "      <td>0</td>\n",
       "      <td>0</td>\n",
       "      <td>0</td>\n",
       "      <td>0</td>\n",
       "      <td>0</td>\n",
       "      <td>0</td>\n",
       "    </tr>\n",
       "    <tr>\n",
       "      <th>159567</th>\n",
       "      <td>ffea4adeee384e90</td>\n",
       "      <td>you should be ashamed of yourself that is a horrible thing you put on my talk page 128611993</td>\n",
       "      <td>0</td>\n",
       "      <td>0</td>\n",
       "      <td>0</td>\n",
       "      <td>0</td>\n",
       "      <td>0</td>\n",
       "      <td>0</td>\n",
       "    </tr>\n",
       "    <tr>\n",
       "      <th>159568</th>\n",
       "      <td>ffee36eab5c267c9</td>\n",
       "      <td>spitzer umm there no actual article for prostitution ring crunch captain</td>\n",
       "      <td>0</td>\n",
       "      <td>0</td>\n",
       "      <td>0</td>\n",
       "      <td>0</td>\n",
       "      <td>0</td>\n",
       "      <td>0</td>\n",
       "    </tr>\n",
       "    <tr>\n",
       "      <th>159569</th>\n",
       "      <td>fff125370e4aaaf3</td>\n",
       "      <td>and it look like it wa actually you who put on the speedy to have the first version deleted now that i look at it</td>\n",
       "      <td>0</td>\n",
       "      <td>0</td>\n",
       "      <td>0</td>\n",
       "      <td>0</td>\n",
       "      <td>0</td>\n",
       "      <td>0</td>\n",
       "    </tr>\n",
       "    <tr>\n",
       "      <th>159570</th>\n",
       "      <td>fff46fc426af1f9a</td>\n",
       "      <td>and i really dont think you understand i came here and my idea wa bad right away what kind of community go you have bad idea go away instead of he...</td>\n",
       "      <td>0</td>\n",
       "      <td>0</td>\n",
       "      <td>0</td>\n",
       "      <td>0</td>\n",
       "      <td>0</td>\n",
       "      <td>0</td>\n",
       "    </tr>\n",
       "  </tbody>\n",
       "</table>\n",
       "<p>159571 rows × 8 columns</p>\n",
       "</div>"
      ],
      "text/plain": [
       "                      id  \\\n",
       "0       0000997932d777bf   \n",
       "1       000103f0d9cfb60f   \n",
       "2       000113f07ec002fd   \n",
       "3       0001b41b1c6bb37e   \n",
       "4       0001d958c54c6e35   \n",
       "...                  ...   \n",
       "159566  ffe987279560d7ff   \n",
       "159567  ffea4adeee384e90   \n",
       "159568  ffee36eab5c267c9   \n",
       "159569  fff125370e4aaaf3   \n",
       "159570  fff46fc426af1f9a   \n",
       "\n",
       "                                                                                                                                                 comment_text  \\\n",
       "0       explanation why the edits made under my username hardcore metallica fan were reverted they werent vandalism just closure on some gas after i voted...   \n",
       "1                                                           daww he match this background colour im seemingly stuck with thanks talk 2151 january 11 2016 utc   \n",
       "2       hey man im really not trying to edit war it just that this guy is constantly removing relevant information and talking to me through edits instead...   \n",
       "3       more i cant make any real suggestion on improvement i wondered if the section statistic should be later on or a subsection of type of accident i t...   \n",
       "4                                                                                              you sir are my hero any chance you remember what page thats on   \n",
       "...                                                                                                                                                       ...   \n",
       "159566  and for the second time of asking when your view completely contradicts the coverage in reliable source why should anyone care what you feel you c...   \n",
       "159567                                                           you should be ashamed of yourself that is a horrible thing you put on my talk page 128611993   \n",
       "159568                                                                               spitzer umm there no actual article for prostitution ring crunch captain   \n",
       "159569                                      and it look like it wa actually you who put on the speedy to have the first version deleted now that i look at it   \n",
       "159570  and i really dont think you understand i came here and my idea wa bad right away what kind of community go you have bad idea go away instead of he...   \n",
       "\n",
       "        toxic  severe_toxic  obscene  threat  insult  identity_hate  \n",
       "0           0             0        0       0       0              0  \n",
       "1           0             0        0       0       0              0  \n",
       "2           0             0        0       0       0              0  \n",
       "3           0             0        0       0       0              0  \n",
       "4           0             0        0       0       0              0  \n",
       "...       ...           ...      ...     ...     ...            ...  \n",
       "159566      0             0        0       0       0              0  \n",
       "159567      0             0        0       0       0              0  \n",
       "159568      0             0        0       0       0              0  \n",
       "159569      0             0        0       0       0              0  \n",
       "159570      0             0        0       0       0              0  \n",
       "\n",
       "[159571 rows x 8 columns]"
      ]
     },
     "execution_count": 12,
     "metadata": {},
     "output_type": "execute_result"
    }
   ],
   "source": [
    "preprocessing(train_df)"
   ]
  },
  {
   "cell_type": "code",
   "execution_count": 13,
   "metadata": {},
   "outputs": [],
   "source": [
    "tokenizer = RegexpTokenizer(r'\\w+')\n",
    "train_tokenized = [tokenizer.tokenize(word) for word in train_df['comment_text']] "
   ]
  },
  {
   "cell_type": "markdown",
   "metadata": {},
   "source": [
    "## Embedding using Word2Vec"
   ]
  },
  {
   "cell_type": "code",
   "execution_count": 18,
   "metadata": {},
   "outputs": [
    {
     "data": {
      "text/plain": [
       "(40081920, 52788190)"
      ]
     },
     "execution_count": 18,
     "metadata": {},
     "output_type": "execute_result"
    }
   ],
   "source": [
    "# Fine tuning pre-trained model\n",
    "vector_model = Word2Vec(size = 300, min_count = 1)\n",
    "vector_model.build_vocab(train_tokenized)\n",
    "total_examples = vector_model.corpus_count\n",
    "\n",
    "vector_model.intersect_word2vec_format('word2vec model/GoogleNews-vectors-negative300.bin', binary = True, lockf = 1.0)\n",
    "vector_model.train(train_tokenized, total_examples = total_examples, epochs = 5)"
   ]
  },
  {
   "cell_type": "code",
   "execution_count": 21,
   "metadata": {},
   "outputs": [],
   "source": [
    "vector_model.save('word2vec model/toxic_comments_word2vec_gensim.model')\n",
    "vector_model.wv.save_word2vec_format('word2vec model/toxic_comments_word2vec.model')"
   ]
  },
  {
   "cell_type": "markdown",
   "metadata": {},
   "source": [
    "## NN Model"
   ]
  },
  {
   "cell_type": "code",
   "execution_count": null,
   "metadata": {},
   "outputs": [],
   "source": []
  }
 ],
 "metadata": {
  "kernelspec": {
   "display_name": "Python 3",
   "language": "python",
   "name": "python3"
  },
  "language_info": {
   "codemirror_mode": {
    "name": "ipython",
    "version": 3
   },
   "file_extension": ".py",
   "mimetype": "text/x-python",
   "name": "python",
   "nbconvert_exporter": "python",
   "pygments_lexer": "ipython3",
   "version": "3.8.5"
  }
 },
 "nbformat": 4,
 "nbformat_minor": 4
}
